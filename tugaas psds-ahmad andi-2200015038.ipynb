{
  "nbformat": 4,
  "nbformat_minor": 0,
  "metadata": {
    "colab": {
      "provenance": []
    },
    "kernelspec": {
      "name": "python3",
      "display_name": "Python 3"
    },
    "language_info": {
      "name": "python"
    }
  },
  "cells": [
    {
      "cell_type": "markdown",
      "source": [
        "***OPERATOR***"
      ],
      "metadata": {
        "id": "MngZ_b28jlIs"
      }
    },
    {
      "cell_type": "markdown",
      "source": [
        "**Latihan Operator 1 (Aritmatika)**"
      ],
      "metadata": {
        "id": "8AyFG8kWSy9O"
      }
    },
    {
      "cell_type": "code",
      "source": [
        "#Penjumlahan\n",
        "print('Penjumlahan')\n",
        "print(4+4)\n",
        "#Pengurangan\n",
        "print('Pengurangan')\n",
        "print('-'*15)\n",
        "print(8-4)\n",
        "#Perkalian\n",
        "print('perkalian')\n",
        "print('-'*15)\n",
        "print(2*2)\n",
        "#Pembagian\n",
        "print('pembagian')\n",
        "print('-'*15)\n",
        "print(12/3)\n",
        "#Modulus\n",
        "print('modulus')\n",
        "print('-'*15)\n",
        "print(8%3)\n",
        "#Perpangkatan\n",
        "print('perpangkatan')\n",
        "print('-'*15)\n",
        "print(2**2)\n",
        "#Pembagian dengan hasil pembulatan flooring\n",
        "print('pembagian dengan hasil pembulatan flooring')\n",
        "print('-'*15)\n",
        "print(11//3)\n"
      ],
      "metadata": {
        "colab": {
          "base_uri": "https://localhost:8080/"
        },
        "id": "ienbONQVS1sZ",
        "outputId": "30589c02-0bd3-4676-d7f6-5d670f539408"
      },
      "execution_count": null,
      "outputs": [
        {
          "output_type": "stream",
          "name": "stdout",
          "text": [
            "Penjumlahan\n",
            "8\n",
            "Pengurangan\n",
            "---------------\n",
            "4\n",
            "perkalian\n",
            "---------------\n",
            "4\n",
            "pembagian\n",
            "---------------\n",
            "4.0\n",
            "modulus\n",
            "---------------\n",
            "2\n",
            "perpangkatan\n",
            "---------------\n",
            "4\n",
            "pembagian dengan hasil pembulatan flooring\n",
            "---------------\n",
            "3\n"
          ]
        }
      ]
    },
    {
      "cell_type": "markdown",
      "source": [
        "**Latihan Operator 2 (Assignment)**"
      ],
      "metadata": {
        "id": "_Irk7Y_gWCPd"
      }
    },
    {
      "cell_type": "code",
      "source": [
        "#Penjumlahan\n",
        "print('penjumlahan')\n",
        "x=4\n",
        "x=x+4\n",
        "print(x)\n",
        "x=4\n",
        "x+=4\n",
        "print(x)\n",
        "print('-'*15)\n",
        "#Pengurangan\n",
        "print('pengurangan')\n",
        "x=8\n",
        "x=x-4\n",
        "print(x)\n",
        "x=6\n",
        "x-=2\n",
        "print(x)\n",
        "print('-'*15)\n",
        "#perkalian\n",
        "print('perkalian')\n",
        "x=2\n",
        "x=x*2\n",
        "print(x)\n",
        "x=2\n",
        "x*=8\n",
        "print(x)\n",
        "print('-'*15)\n",
        "#pembagian\n",
        "print('pembagian')\n",
        "x=10\n",
        "x=x/2\n",
        "print(x)\n",
        "x=10\n",
        "x/=5\n",
        "print(x)\n",
        "print('-'*15)\n",
        "#modulus\n",
        "print('modulus')\n",
        "x=15\n",
        "x=x%6\n",
        "print(x)\n",
        "x=15\n",
        "x%=4\n",
        "print(x)\n",
        "print('-'*15)\n",
        "#Pembagian flooring\n",
        "print('pembagian flooring')\n",
        "x=17\n",
        "x=x//5\n",
        "print(x)\n",
        "x=17\n",
        "x//=3\n",
        "print(x)\n",
        "print('-'*15)\n",
        "#Perpangkatan\n",
        "x=3\n",
        "x=x**6\n",
        "print(x)\n",
        "x=3\n",
        "x**=4\n",
        "print(x)"
      ],
      "metadata": {
        "colab": {
          "base_uri": "https://localhost:8080/"
        },
        "id": "5wkRRO_3WKM-",
        "outputId": "e239cb7f-22f6-4ac9-ea66-c5edd4a861b3"
      },
      "execution_count": null,
      "outputs": [
        {
          "output_type": "stream",
          "name": "stdout",
          "text": [
            "penjumlahan\n",
            "8\n",
            "8\n",
            "---------------\n",
            "pengurangan\n",
            "4\n",
            "4\n",
            "---------------\n",
            "perkalian\n",
            "4\n",
            "16\n",
            "---------------\n",
            "pembagian\n",
            "5.0\n",
            "2.0\n",
            "---------------\n",
            "modulus\n",
            "3\n",
            "3\n",
            "---------------\n",
            "pembagian flooring\n",
            "3\n",
            "5\n",
            "---------------\n",
            "729\n",
            "81\n"
          ]
        }
      ]
    },
    {
      "cell_type": "markdown",
      "source": [
        "**Latihan Operator 3 (Pembanding)**"
      ],
      "metadata": {
        "id": "nBw-qdrIgLqd"
      }
    },
    {
      "cell_type": "code",
      "source": [
        "print(3==3)\n",
        "print(4!=2)\n",
        "print(2>6)\n",
        "print(3<2)\n",
        "print(4>=3)\n",
        "print(6<=6)"
      ],
      "metadata": {
        "colab": {
          "base_uri": "https://localhost:8080/"
        },
        "id": "9CtF3AZNgW8c",
        "outputId": "44336570-0f97-4864-a3dd-25e144735f8d"
      },
      "execution_count": null,
      "outputs": [
        {
          "output_type": "stream",
          "name": "stdout",
          "text": [
            "True\n",
            "True\n",
            "False\n",
            "False\n",
            "True\n",
            "True\n"
          ]
        }
      ]
    },
    {
      "cell_type": "markdown",
      "source": [
        "**Latihan Operator 4 (Logika)**"
      ],
      "metadata": {
        "id": "rhLh9LaXg-xj"
      }
    },
    {
      "cell_type": "code",
      "source": [
        "print(False and False)\n",
        "print(True or False)\n",
        "print(False and not True)"
      ],
      "metadata": {
        "colab": {
          "base_uri": "https://localhost:8080/"
        },
        "id": "2mwGQwxnhlfX",
        "outputId": "39ed9910-0d08-4834-c370-fd718c148d4d"
      },
      "execution_count": null,
      "outputs": [
        {
          "output_type": "stream",
          "name": "stdout",
          "text": [
            "False\n",
            "True\n",
            "False\n"
          ]
        }
      ]
    },
    {
      "cell_type": "markdown",
      "source": [
        "**Latihan Operator 5 (Keanggotaan)**"
      ],
      "metadata": {
        "id": "Y4dHmDo9ia_P"
      }
    },
    {
      "cell_type": "code",
      "source": [
        "a=(4,5,6,7,8)\n",
        "b=5\n",
        "print(b in a)\n",
        "\n",
        "a=(2,4,5,7,8)\n",
        "b=1\n",
        "print(b not in a)"
      ],
      "metadata": {
        "colab": {
          "base_uri": "https://localhost:8080/"
        },
        "id": "bcghy7SMihBh",
        "outputId": "157497e9-bb63-42da-b6c1-042a413dab17"
      },
      "execution_count": null,
      "outputs": [
        {
          "output_type": "stream",
          "name": "stdout",
          "text": [
            "True\n",
            "True\n"
          ]
        }
      ]
    },
    {
      "cell_type": "markdown",
      "source": [
        "***VARIABEL***"
      ],
      "metadata": {
        "id": "qG9PiWDMjw33"
      }
    },
    {
      "cell_type": "markdown",
      "source": [
        "***Latihan 1***"
      ],
      "metadata": {
        "id": "AMkncf8dkvAV"
      }
    },
    {
      "cell_type": "code",
      "source": [
        "kalimat ='menampilkan jumlah data'\n",
        "bilangan1= 46\n",
        "bilangan2= 5.6\n",
        "bilangan3= False\n",
        "bilangan4= 10j - 3\n",
        "\n",
        "print(kalimat)\n",
        "print(bilangan1)\n",
        "print(bilangan2)\n",
        "print(bilangan3)\n",
        "print(bilangan4)\n"
      ],
      "metadata": {
        "colab": {
          "base_uri": "https://localhost:8080/"
        },
        "id": "9RKQNSm_mNaR",
        "outputId": "1e6450d1-6833-4627-c9c2-9fbc136aed32"
      },
      "execution_count": 15,
      "outputs": [
        {
          "output_type": "stream",
          "name": "stdout",
          "text": [
            "menampilkan jumlah data\n",
            "46\n",
            "5.6\n",
            "False\n",
            "(-3+10j)\n"
          ]
        }
      ]
    },
    {
      "cell_type": "markdown",
      "source": [
        "***Latihan 2 (Tipe Data)***"
      ],
      "metadata": {
        "id": "lRj96UWAnS45"
      }
    },
    {
      "cell_type": "code",
      "source": [
        "#menampilkan tipe data\n",
        "print(type(kalimat))\n",
        "print(type(bilangan1))\n",
        "print(type(bilangan2))\n",
        "print(type(bilangan3))\n",
        "print(type(bilangan4))"
      ],
      "metadata": {
        "id": "EkMoalbenV8O",
        "colab": {
          "base_uri": "https://localhost:8080/"
        },
        "outputId": "95b49056-32c2-4a9c-fac6-c3336456e069"
      },
      "execution_count": 16,
      "outputs": [
        {
          "output_type": "stream",
          "name": "stdout",
          "text": [
            "<class 'str'>\n",
            "<class 'int'>\n",
            "<class 'float'>\n",
            "<class 'bool'>\n",
            "<class 'complex'>\n"
          ]
        }
      ]
    },
    {
      "cell_type": "markdown",
      "source": [
        "***Latihan 3 (Koversi Tipe Data)***"
      ],
      "metadata": {
        "id": "rkZ9DfUysjum"
      }
    },
    {
      "cell_type": "code",
      "source": [
        "#konversi tipe data string\n",
        "print(str(bilangan4))\n",
        "print(str(bilangan2))\n",
        "print(str(bilangan3))\n",
        "print('-'*15)\n",
        "#konversi tipe data integer\n",
        "print(int(bilangan2))\n",
        "print(int(bilangan3))\n",
        "print('-'*15)\n",
        "#konversi tipe data float\n",
        "print(float(bilangan3))\n",
        "print(float(bilangan2))\n",
        "print('-'*15)\n",
        "#konversi tipe data bool\n",
        "print(bool(bilangan3))\n",
        "print(bool(bilangan4))\n",
        "print('-'*15)\n",
        "#konversi tipe data complex\n",
        "print(complex(bilangan4))\n",
        "print(complex(bilangan1))\n",
        "print(complex(bilangan2))\n",
        "\n"
      ],
      "metadata": {
        "colab": {
          "base_uri": "https://localhost:8080/"
        },
        "id": "fxE4a_9Ksmus",
        "outputId": "2891df72-41b2-4170-8402-778604dde8ba"
      },
      "execution_count": 28,
      "outputs": [
        {
          "output_type": "stream",
          "name": "stdout",
          "text": [
            "(-3+10j)\n",
            "5.6\n",
            "False\n",
            "---------------\n",
            "5\n",
            "0\n",
            "---------------\n",
            "0.0\n",
            "5.6\n",
            "---------------\n",
            "False\n",
            "True\n",
            "---------------\n",
            "(-3+10j)\n",
            "(46+0j)\n",
            "(5.6+0j)\n"
          ]
        }
      ]
    }
  ]
}